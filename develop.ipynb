{
 "cells": [
  {
   "cell_type": "code",
   "execution_count": 190,
   "metadata": {},
   "outputs": [],
   "source": [
    "import streamlit as st\n",
    "from pathlib import Path\n",
    "from jinja import Jinja, Documents\n",
    "from instruct import instruct\n",
    "from lettreSetting import appform\n",
    "from IPython.display import display,Markdown"
   ]
  },
  {
   "cell_type": "code",
   "execution_count": 191,
   "metadata": {},
   "outputs": [],
   "source": [
    "model_list = [\"groq-llama3\", \"claude-haiku\", \"qwen\", \"claude-opus\", \"gpt-4o\",\"command-r\"]\n",
    "model=\"groq-llama3\"\n",
    "d = Documents(\"./documents\")\n",
    "t = Jinja(\"./templates\")\n",
    "msg = d.source[\"sysmsg\"][0][\"text\"]\n",
    "text=d.source[\"arguments\"][2][\"text\"]"
   ]
  },
  {
   "cell_type": "code",
   "execution_count": 192,
   "metadata": {},
   "outputs": [],
   "source": [
    "inst=''' \n",
    "You get a text with several sentences. Your task is \n",
    "(a) to segment the text into numbered sentences.\n",
    "(b) to standardize each sentence into a propositional function with propositions (additionally named by unambigous capital letters P,Q,...) connected by propositional functions and,or,iff,not,therefore. Resolve subclauses into normal form.\n",
    "(c) propositions with the same meaning must get the same letter as name. The conclusion gets a letter as well.\n",
    "(d) generate a propositional function \"if conj then concl\" of (i) a conclusion concl from the sentence with an inference operator \"therefore\" (ii) a conjunction conj of all previous sentences except the conclusion and generate a truth table for that function\n",
    "\n",
    "The text is:\\n\n",
    "'''"
   ]
  },
  {
   "cell_type": "code",
   "execution_count": 193,
   "metadata": {},
   "outputs": [
    {
     "name": "stdout",
     "output_type": "stream",
     "text": [
      "Chosen model: llama3-70b-8192, Vendor: Groq\n"
     ]
    }
   ],
   "source": [
    "r,_=instruct(msg,inst+text,model)"
   ]
  },
  {
   "cell_type": "code",
   "execution_count": 194,
   "metadata": {},
   "outputs": [
    {
     "data": {
      "text/markdown": [
       "Let's break down the text into numbered sentences:\n",
       "\n",
       "1. If mankind produces too much CO2, the water level of the ocean rises.\n",
       "2. The standard of living in Italy is very high and mankind produces too much CO2.\n",
       "3. The standard of living in India is not as high as in Italy.\n",
       "4. Tomorrow there are elections in India.\n",
       "5. Therefore the water level rises.\n",
       "\n",
       "Now, let's standardize each sentence into a propositional function:\n",
       "\n",
       "1. P → Q (If mankind produces too much CO2, the water level of the ocean rises.)\n",
       "2. R ∧ P (The standard of living in Italy is very high and mankind produces too much CO2.)\n",
       "3. ¬S (The standard of living in India is not as high as in Italy.)\n",
       "4. T (Tomorrow there are elections in India.)\n",
       "5. ∴ Q (Therefore the water level rises.)\n",
       "\n",
       "Now, let's generate a propositional function \"if conj then concl\" and create a truth table for it:\n",
       "\n",
       "Conjunction of premises: (P → Q) ∧ (R ∧ P) ∧ ¬S ∧ T\n",
       "Conclusion: Q\n",
       "\n",
       "Propositional function: ((P → Q) ∧ (R ∧ P) ∧ ¬S ∧ T) → Q\n",
       "\n",
       "Here is the truth table:\n",
       "\n",
       "| P | Q | R | S | T | (P → Q) | (R ∧ P) | ¬S | ((P → Q) ∧ (R ∧ P) ∧ ¬S ∧ T) | Q | ((P → Q) ∧ (R ∧ P) ∧ ¬S ∧ T) → Q |\n",
       "| --- | --- | --- | --- | --- | --- | --- | --- | --- | --- | --- |\n",
       "| T | T | T | F | T | T | T | T | T | T | T |\n",
       "| T | T | T | F | F | T | T | T | F | T | T |\n",
       "| T | F | T | F | T | F | T | T | F | F | F |\n",
       "| T | F | T | F | F | F | T | T | F | F | F |\n",
       "| F | T | T | F | T | T | F | T | F | T | T |\n",
       "| F | T | T | F | F | T | F | T | F | T | T |\n",
       "| F | F | T | F | T | T | F | T | F | F | F |\n",
       "| F | F | T | F | F | T | F | T | F | F | F |\n",
       "| T | T | F | F | T | T | F | T | F | T | T |\n",
       "| T | T | F | F | F | T | F | T | F | T | T |\n",
       "| T | F | F | F | T | F | F | T | F | F | F |\n",
       "| T | F | F | F | F | F | F | T | F | F | F |\n",
       "| F | T | F | F | T | T | F | T | F | T | T |\n",
       "| F | T | F | F | F | T | F | T | F | T | T |\n",
       "| F | F | F | F | T | T | F | T | F | F | F |\n",
       "| F | F | F | F | F | T | F | T | F | F | F |\n",
       "\n",
       "The argument is valid."
      ],
      "text/plain": [
       "<IPython.core.display.Markdown object>"
      ]
     },
     "metadata": {},
     "output_type": "display_data"
    }
   ],
   "source": [
    "display(Markdown(r))"
   ]
  }
 ],
 "metadata": {
  "kernelspec": {
   "display_name": "lmu",
   "language": "python",
   "name": "python3"
  },
  "language_info": {
   "codemirror_mode": {
    "name": "ipython",
    "version": 3
   },
   "file_extension": ".py",
   "mimetype": "text/x-python",
   "name": "python",
   "nbconvert_exporter": "python",
   "pygments_lexer": "ipython3",
   "version": "3.12.1"
  }
 },
 "nbformat": 4,
 "nbformat_minor": 2
}
